{
 "cells": [
  {
   "cell_type": "code",
   "execution_count": null,
   "metadata": {},
   "outputs": [],
   "source": []
  },
  {
   "cell_type": "code",
   "execution_count": 17,
   "metadata": {},
   "outputs": [],
   "source": [
    "DNA = [\"A\" , \"C\" , \"T\" , \"G\"]\n",
    "\n",
    "\n",
    "def dna_validate(dna_seq):\n",
    "    dnaCap = dna_seq.upper()\n",
    "    for seq in dna_seq:\n",
    "        if seq not in  DNA:\n",
    "            return False\n",
    "    \n",
    "    return dnaCap\n",
    "        \n",
    "    "
   ]
  },
  {
   "cell_type": "code",
   "execution_count": 18,
   "metadata": {},
   "outputs": [
    {
     "name": "stdout",
     "output_type": "stream",
     "text": [
      "False\n"
     ]
    }
   ],
   "source": [
    "str = \"ATCggcT\"\n",
    "\n",
    "print(dna_validate(str))"
   ]
  },
  {
   "cell_type": "code",
   "execution_count": 19,
   "metadata": {},
   "outputs": [
    {
     "name": "stdout",
     "output_type": "stream",
     "text": [
      "GCCCCAGATCTGTACTCAACTGATCGTGGATCAATGTGGGGTGGGCCATG\n"
     ]
    }
   ],
   "source": [
    "import random\n",
    "\n",
    "randDNAstr = ''.join([random.choice(DNA) for nuc in range(50)])\n",
    "\n",
    "print(randDNAstr)"
   ]
  },
  {
   "cell_type": "code",
   "execution_count": 23,
   "metadata": {},
   "outputs": [],
   "source": [
    "def countFreq(val_str):\n",
    "    count_dict = {\n",
    "        \"A\":0  , \"C\":0 , \"T\":0 , \"G\":0\n",
    "        }\n",
    "    val_str = val_str.upper()\n",
    "    for i in val_str:\n",
    "        if i not in DNA:\n",
    "            return False\n",
    "        else:\n",
    "            count_dict[i] += 1\n",
    "            \n",
    "            \n",
    "    return count_dict\n",
    "            \n"
   ]
  },
  {
   "cell_type": "code",
   "execution_count": 24,
   "metadata": {},
   "outputs": [
    {
     "name": "stdout",
     "output_type": "stream",
     "text": [
      "{'A': 10, 'C': 12, 'T': 12, 'G': 16}\n"
     ]
    }
   ],
   "source": [
    "print(countFreq(randDNAstr))"
   ]
  },
  {
   "cell_type": "code",
   "execution_count": 25,
   "metadata": {},
   "outputs": [
    {
     "name": "stdout",
     "output_type": "stream",
     "text": [
      "GCCCCAGATCTGTACTCAACTGATCGTGGATCAATGTGGGGTGGGCCATG\n"
     ]
    }
   ],
   "source": [
    "print(dna_validate(randDNAstr))"
   ]
  },
  {
   "cell_type": "code",
   "execution_count": null,
   "metadata": {},
   "outputs": [],
   "source": []
  }
 ],
 "metadata": {
  "interpreter": {
   "hash": "2be5faf79681da6f2a61fdfdd5405d65d042280f7fba6178067603e3a2925119"
  },
  "kernelspec": {
   "display_name": "Python 3.10.2 64-bit",
   "language": "python",
   "name": "python3"
  },
  "language_info": {
   "codemirror_mode": {
    "name": "ipython",
    "version": 3
   },
   "file_extension": ".py",
   "mimetype": "text/x-python",
   "name": "python",
   "nbconvert_exporter": "python",
   "pygments_lexer": "ipython3",
   "version": "3.10.2"
  },
  "orig_nbformat": 4
 },
 "nbformat": 4,
 "nbformat_minor": 2
}
